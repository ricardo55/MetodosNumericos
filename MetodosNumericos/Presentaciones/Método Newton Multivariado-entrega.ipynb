{
 "cells": [
  {
   "cell_type": "markdown",
   "metadata": {
    "collapsed": false
   },
   "source": [
    "### Modulos: error, swap, gaussPivot\n",
    "### para el correcto funcionamiento del algoritmo para el Método de Newton"
   ]
  },
  {
   "cell_type": "code",
   "execution_count": 6,
   "metadata": {
    "collapsed": false
   },
   "outputs": [
   ],
   "source": [
    "## module error\n",
    "''' \n",
    "\n",
    "'''\n",
    "import sys\n",
    "def err(string):\n",
    "    print(string)\n",
    "    input('Press return to exit')\n",
    "    sys.exit()"
   ]
  },
  {
   "cell_type": "code",
   "execution_count": 7,
   "metadata": {
    "collapsed": false
   },
   "outputs": [
   ],
   "source": [
    "## modulo swap\n",
    "''' \n",
    "\n",
    "'''\n",
    "def swapRows(v,i,j):\n",
    "    if len(v.shape) == 1:\n",
    "        v[i],v[j] = v[j],v[i]\n",
    "    else:\n",
    "        v[[i,j],:] = v[[j,i],:]\n",
    "        \n",
    "def swapCols(v,i,j):\n",
    "    v[:,[i,j]] = v[:,[j,i]]"
   ]
  },
  {
   "cell_type": "code",
   "execution_count": 8,
   "metadata": {
    "collapsed": false
   },
   "outputs": [
   ],
   "source": [
    "### module gaussPivot\n",
    "''' x = gaussPivot(a,b,tol=1.0e-12).\n",
    "    Resuelve [a]{x} = {b} mediante la eliminación de Gauss\n",
    "    con renglón pivote escalado\n",
    "'''\n",
    "import numpy as np\n",
    "\n",
    "def gaussPivot(a,b,tol=1.0e-12):\n",
    "    n = len(b)\n",
    "    \n",
    "#   Definiendo los factores escalables\n",
    "    s = np.zeros(n)\n",
    "    for i in range(n):\n",
    "        s[i] = max(np.abs(a[i,:]))\n",
    "        \n",
    "    for k in range(0, n-1):\n",
    "        \n",
    "    #   Intercambio de renglones, si se necesita\n",
    "        p = np.argmax(np.abs(a[k:n,k])/s[k:n]) + k\n",
    "        if abs(a[p,k]) < tol: error.err('Matrix is singular')\n",
    "        if p != k:\n",
    "            swapRows(b,k,p)\n",
    "            swapRows(s,k,p)\n",
    "            swapRows(a,k,p)\n",
    "            \n",
    "    #   Eliminacion\n",
    "        for i in range(k+1,n):\n",
    "            if a[i,k] != 0.0:\n",
    "                lam = a[i,k]/a[k,k]\n",
    "                a[i,k+1:n] = a[i,k+1:n] - lam*a[k,k+1:n]\n",
    "                b[i] = b[i] - lam*b[k]\n",
    "    if abs(a[n-1,n-1]) < tol: error.err('Matrix is singlar')\n",
    "        \n",
    "#   Substitution en reversa\n",
    "    b[n-1] = b[n-1]/a[n-1,n-1]\n",
    "    for k in range(n-2,-1,-1):\n",
    "        b[k] = (b[k] - np.dot(a[k,k+1:n],b[k+1:n]))/a[k,k]\n",
    "    return b"
   ]
  },
  {
   "cell_type": "markdown",
   "metadata": {
    "collapsed": false
   },
   "source": [
    "### Método de Newton multivariado"
   ]
  },
  {
   "cell_type": "code",
   "execution_count": 9,
   "metadata": {
    "collapsed": false
   },
   "outputs": [
   ],
   "source": [
    "## module newtonRaphson2\n",
    "''' soln = newtonRaphson2(f,x,tol=1.0e-9).\n",
    "    Resuelve las excuaciones simultáneas f(x) = 0 by\n",
    "    El metodo Newton-Raphson utilizando {x} como la variable\n",
    "    inicial. Notar que {f} y {x} son vectores.\n",
    "'''\n",
    "\n",
    "import numpy as np\n",
    "import math\n",
    "def newtonRaphson2(f,x,tol=1.0e-9):\n",
    "    \n",
    "    def jacobian(f,x):\n",
    "        h = 1.0e-4\n",
    "        n = len(x)\n",
    "        jac = np.zeros((n,n))\n",
    "        f0 = f(x)\n",
    "        for i in range(n):\n",
    "            temp = x[i]\n",
    "            x[i] = temp + h\n",
    "            f1 = f(x)\n",
    "            x[i] = temp\n",
    "            jac[:,i] = (f1 - f0)/h\n",
    "        return jac,f0\n",
    "    \n",
    "    for i in range(30):\n",
    "        jac, f0 = jacobian(f,x)\n",
    "        if math.sqrt(np.dot(f0,f0)/len(x)) < tol: return x\n",
    "        dx = gaussPivot(jac, -f0)\n",
    "        x = x + dx\n",
    "        if math.sqrt(np.dot(dx,dx)) < tol*max(max(abs(x)),1.0):\n",
    "            return x\n",
    "    print('Demasiadas Iteraciones')"
   ]
  },
  {
   "cell_type": "markdown",
   "metadata": {
    "collapsed": false
   },
   "source": [
    "## Ejercicio pedido"
   ]
  },
  {
   "cell_type": "markdown",
   "metadata": {
    "collapsed": false
   },
   "source": [
    "$$ Sistema = \\left \\{ \\begin{matrix} x^{3} + x^{2}y = xz - 6 & x(0) = -1,\n",
    "\\\\ e^{x} + e^{y} = z & y(0)= -2,\n",
    "\\\\ y^{2} = 4 + 2xz & z(0)= 1,\\end{matrix} \\right. $$"
   ]
  },
  {
   "cell_type": "markdown",
   "metadata": {
    "collapsed": false
   },
   "source": [
    "Para resolver el sistema, utilizamos:<br/>\n",
    "$$x_{0} = x$$\n",
    "$$x_{1} = y$$\n",
    "$$x_{2} = z$$\n",
    "<br/>\n",
    "<br/>\n",
    "En python:<br/>\n",
    "$$x_{0} = x[0]$$\n",
    "$$x_{1} = x[1]$$\n",
    "$$x_{2} = x[2]$$"
   ]
  },
  {
   "cell_type": "code",
   "execution_count": 12,
   "metadata": {
    "collapsed": false
   },
   "outputs": [
    {
     "name": "stdout",
     "output_type": "stream",
     "text": [
      "Los valores para [x, y, z], respectivamente:\n",
      " \n",
      "[-1.4560428  -1.66423047  0.4224934 ]\n"
     ]
    }
   ],
   "source": [
    "import numpy as np\n",
    "import math\n",
    "\n",
    "def f(x):\n",
    "    f = np.zeros(len(x))\n",
    "    f[0] = x[0]**3 + x[0]**2*x[1] - x[0]*x[2] + 6.0\n",
    "    f[1] = math.exp(x[0]) + math.exp(x[1]) - x[2]\n",
    "    f[2] = x[1]**2 - 2*x[0]*x[2] - 4.0\n",
    "    return f\n",
    "\n",
    "x = np.array([-1.0, -2.0, 1.0])\n",
    "print('Los valores para [x, y, z], respectivamente:\\n ')\n",
    "print(newtonRaphson2(f,x))"
   ]
  },
  {
   "cell_type": "code",
   "execution_count": 0,
   "metadata": {
    "collapsed": false
   },
   "outputs": [
   ],
   "source": [
   ]
  }
 ],
 "metadata": {
  "kernelspec": {
   "display_name": "Python 2 (SageMath)",
   "language": "python",
   "name": "python2"
  },
  "language_info": {
   "codemirror_mode": {
    "name": "ipython",
    "version": 2
   },
   "file_extension": ".py",
   "mimetype": "text/x-python",
   "name": "python",
   "nbconvert_exporter": "python",
   "pygments_lexer": "ipython2",
   "version": "2.7.13"
  }
 },
 "nbformat": 4,
 "nbformat_minor": 0
}